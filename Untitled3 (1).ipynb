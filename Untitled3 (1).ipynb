{
 "cells": [
  {
   "cell_type": "markdown",
   "id": "2074f1d0",
   "metadata": {},
   "source": [
    "# Importing the libraries"
   ]
  },
  {
   "cell_type": "code",
   "execution_count": 44,
   "id": "a988d0bb",
   "metadata": {},
   "outputs": [],
   "source": [
    "import numpy as np\n",
    "import tensorflow as tf\n",
    "import pandas as pd\n"
   ]
  },
  {
   "cell_type": "code",
   "execution_count": 45,
   "id": "19b6f7b8",
   "metadata": {},
   "outputs": [
    {
     "data": {
      "text/plain": [
       "'2.10.0'"
      ]
     },
     "execution_count": 45,
     "metadata": {},
     "output_type": "execute_result"
    }
   ],
   "source": [
    "tf.__version__"
   ]
  },
  {
   "cell_type": "markdown",
   "id": "aebc6dbf",
   "metadata": {},
   "source": [
    "# Importing the dataset"
   ]
  },
  {
   "cell_type": "code",
   "execution_count": 46,
   "id": "bde17125",
   "metadata": {},
   "outputs": [],
   "source": [
    "df1=pd.read_csv(\"ecommerceDataset.csv\",names=['products','describtion'],header=1)"
   ]
  },
  {
   "cell_type": "code",
   "execution_count": 47,
   "id": "8a420e9b",
   "metadata": {},
   "outputs": [
    {
     "data": {
      "text/plain": [
       "(50423, 2)"
      ]
     },
     "execution_count": 47,
     "metadata": {},
     "output_type": "execute_result"
    }
   ],
   "source": [
    "df1.shape"
   ]
  },
  {
   "cell_type": "code",
   "execution_count": 48,
   "id": "1a418082",
   "metadata": {},
   "outputs": [
    {
     "data": {
      "text/html": [
       "<div>\n",
       "<style scoped>\n",
       "    .dataframe tbody tr th:only-of-type {\n",
       "        vertical-align: middle;\n",
       "    }\n",
       "\n",
       "    .dataframe tbody tr th {\n",
       "        vertical-align: top;\n",
       "    }\n",
       "\n",
       "    .dataframe thead th {\n",
       "        text-align: right;\n",
       "    }\n",
       "</style>\n",
       "<table border=\"1\" class=\"dataframe\">\n",
       "  <thead>\n",
       "    <tr style=\"text-align: right;\">\n",
       "      <th></th>\n",
       "      <th>0</th>\n",
       "      <th>1</th>\n",
       "      <th>2</th>\n",
       "      <th>3</th>\n",
       "      <th>4</th>\n",
       "    </tr>\n",
       "  </thead>\n",
       "  <tbody>\n",
       "    <tr>\n",
       "      <th>products</th>\n",
       "      <td>Household</td>\n",
       "      <td>Household</td>\n",
       "      <td>Household</td>\n",
       "      <td>Household</td>\n",
       "      <td>Household</td>\n",
       "    </tr>\n",
       "    <tr>\n",
       "      <th>describtion</th>\n",
       "      <td>SAF 'UV Textured Modern Art Print Framed' Pain...</td>\n",
       "      <td>SAF Flower Print Framed Painting (Synthetic, 1...</td>\n",
       "      <td>Incredible Gifts India Wooden Happy Birthday U...</td>\n",
       "      <td>Pitaara Box Romantic Venice Canvas Painting 6m...</td>\n",
       "      <td>Paper Plane Design Starry Night Vangoh Wall Ar...</td>\n",
       "    </tr>\n",
       "  </tbody>\n",
       "</table>\n",
       "</div>"
      ],
      "text/plain": [
       "                                                             0  \\\n",
       "products                                             Household   \n",
       "describtion  SAF 'UV Textured Modern Art Print Framed' Pain...   \n",
       "\n",
       "                                                             1  \\\n",
       "products                                             Household   \n",
       "describtion  SAF Flower Print Framed Painting (Synthetic, 1...   \n",
       "\n",
       "                                                             2  \\\n",
       "products                                             Household   \n",
       "describtion  Incredible Gifts India Wooden Happy Birthday U...   \n",
       "\n",
       "                                                             3  \\\n",
       "products                                             Household   \n",
       "describtion  Pitaara Box Romantic Venice Canvas Painting 6m...   \n",
       "\n",
       "                                                             4  \n",
       "products                                             Household  \n",
       "describtion  Paper Plane Design Starry Night Vangoh Wall Ar...  "
      ]
     },
     "execution_count": 48,
     "metadata": {},
     "output_type": "execute_result"
    }
   ],
   "source": [
    "df1.head().T"
   ]
  },
  {
   "cell_type": "code",
   "execution_count": 49,
   "id": "1f49587c",
   "metadata": {},
   "outputs": [
    {
     "data": {
      "text/plain": [
       "pandas.core.frame.DataFrame"
      ]
     },
     "execution_count": 49,
     "metadata": {},
     "output_type": "execute_result"
    }
   ],
   "source": [
    "type(df1.iloc[0:5])"
   ]
  },
  {
   "cell_type": "code",
   "execution_count": 50,
   "id": "183780a3",
   "metadata": {},
   "outputs": [
    {
     "data": {
      "text/plain": [
       "array(['Household', 'Books', 'Clothing & Accessories', 'Electronics'],\n",
       "      dtype=object)"
      ]
     },
     "execution_count": 50,
     "metadata": {},
     "output_type": "execute_result"
    }
   ],
   "source": [
    "df1.products.unique()"
   ]
  },
  {
   "cell_type": "code",
   "execution_count": 51,
   "id": "c4d1d955",
   "metadata": {},
   "outputs": [
    {
     "data": {
      "text/plain": [
       "Household                 19311\n",
       "Books                     11820\n",
       "Electronics               10621\n",
       "Clothing & Accessories     8671\n",
       "Name: products, dtype: int64"
      ]
     },
     "execution_count": 51,
     "metadata": {},
     "output_type": "execute_result"
    }
   ],
   "source": [
    "df1.products.value_counts()"
   ]
  },
  {
   "cell_type": "code",
   "execution_count": 52,
   "id": "13be712a",
   "metadata": {},
   "outputs": [],
   "source": [
    "dict={\"Household\":df1.iloc[0:8671,1].to_numpy(),\"Books\":df1.iloc[19312:27983,1].to_numpy(),\"Clothing & Accesories\":df1.iloc[31132:39803,1].to_numpy(),\"Electronics\":df1.iloc[39803:48474,1].to_numpy()}"
   ]
  },
  {
   "cell_type": "code",
   "execution_count": 53,
   "id": "31e2a70d",
   "metadata": {},
   "outputs": [
    {
     "data": {
      "text/html": [
       "<div>\n",
       "<style scoped>\n",
       "    .dataframe tbody tr th:only-of-type {\n",
       "        vertical-align: middle;\n",
       "    }\n",
       "\n",
       "    .dataframe tbody tr th {\n",
       "        vertical-align: top;\n",
       "    }\n",
       "\n",
       "    .dataframe thead th {\n",
       "        text-align: right;\n",
       "    }\n",
       "</style>\n",
       "<table border=\"1\" class=\"dataframe\">\n",
       "  <thead>\n",
       "    <tr style=\"text-align: right;\">\n",
       "      <th></th>\n",
       "      <th>Household</th>\n",
       "      <th>Books</th>\n",
       "      <th>Clothing &amp; Accesories</th>\n",
       "      <th>Electronics</th>\n",
       "    </tr>\n",
       "  </thead>\n",
       "  <tbody>\n",
       "    <tr>\n",
       "      <th>0</th>\n",
       "      <td>SAF 'UV Textured Modern Art Print Framed' Pain...</td>\n",
       "      <td>Muslims and Missionaries in Pre-Mutiny India</td>\n",
       "      <td>Amour Butterfly Design Sunglasses For Girls 6+...</td>\n",
       "      <td>Bluetooth Dongle USB CSR 4.0 Adapter Receiver ...</td>\n",
       "    </tr>\n",
       "    <tr>\n",
       "      <th>1</th>\n",
       "      <td>SAF Flower Print Framed Painting (Synthetic, 1...</td>\n",
       "      <td>The PCOD - Thyroid Book - Compiled From Women ...</td>\n",
       "      <td>Vaenait Baby 024M Baby Girls Rashguard Swimwea...</td>\n",
       "      <td>Wi-Fi Receiver 300Mbps, 2.4GHz, 802.11b/g/n US...</td>\n",
       "    </tr>\n",
       "    <tr>\n",
       "      <th>2</th>\n",
       "      <td>Incredible Gifts India Wooden Happy Birthday U...</td>\n",
       "      <td>The Monk Who Sold His Ferrari Review Everyone ...</td>\n",
       "      <td>Amour Butterfly Design Sunglasses For Girls 6+...</td>\n",
       "      <td>SanDisk 64GB Class 10 microSDXC Memory Card wi...</td>\n",
       "    </tr>\n",
       "    <tr>\n",
       "      <th>3</th>\n",
       "      <td>Pitaara Box Romantic Venice Canvas Painting 6m...</td>\n",
       "      <td>The Secret of Secrets: The Secrets of the Gold...</td>\n",
       "      <td>Kuchipoo Girl's Cotton Regular Fit T-Shirt - P...</td>\n",
       "      <td>Gizga Essentials Laptop Power Cable Cord- 3 Pi...</td>\n",
       "    </tr>\n",
       "    <tr>\n",
       "      <th>4</th>\n",
       "      <td>Paper Plane Design Starry Night Vangoh Wall Ar...</td>\n",
       "      <td>Path of Meditation: A Step-by-step Guide to Me...</td>\n",
       "      <td>Orange and Orchid Baby Girl's A-Line Knee-Long...</td>\n",
       "      <td>TP-Link TL-WN725N 150Mbps Wireless N Nano USB ...</td>\n",
       "    </tr>\n",
       "  </tbody>\n",
       "</table>\n",
       "</div>"
      ],
      "text/plain": [
       "                                           Household  \\\n",
       "0  SAF 'UV Textured Modern Art Print Framed' Pain...   \n",
       "1  SAF Flower Print Framed Painting (Synthetic, 1...   \n",
       "2  Incredible Gifts India Wooden Happy Birthday U...   \n",
       "3  Pitaara Box Romantic Venice Canvas Painting 6m...   \n",
       "4  Paper Plane Design Starry Night Vangoh Wall Ar...   \n",
       "\n",
       "                                               Books  \\\n",
       "0       Muslims and Missionaries in Pre-Mutiny India   \n",
       "1  The PCOD - Thyroid Book - Compiled From Women ...   \n",
       "2  The Monk Who Sold His Ferrari Review Everyone ...   \n",
       "3  The Secret of Secrets: The Secrets of the Gold...   \n",
       "4  Path of Meditation: A Step-by-step Guide to Me...   \n",
       "\n",
       "                               Clothing & Accesories  \\\n",
       "0  Amour Butterfly Design Sunglasses For Girls 6+...   \n",
       "1  Vaenait Baby 024M Baby Girls Rashguard Swimwea...   \n",
       "2  Amour Butterfly Design Sunglasses For Girls 6+...   \n",
       "3  Kuchipoo Girl's Cotton Regular Fit T-Shirt - P...   \n",
       "4  Orange and Orchid Baby Girl's A-Line Knee-Long...   \n",
       "\n",
       "                                         Electronics  \n",
       "0  Bluetooth Dongle USB CSR 4.0 Adapter Receiver ...  \n",
       "1  Wi-Fi Receiver 300Mbps, 2.4GHz, 802.11b/g/n US...  \n",
       "2  SanDisk 64GB Class 10 microSDXC Memory Card wi...  \n",
       "3  Gizga Essentials Laptop Power Cable Cord- 3 Pi...  \n",
       "4  TP-Link TL-WN725N 150Mbps Wireless N Nano USB ...  "
      ]
     },
     "execution_count": 53,
     "metadata": {},
     "output_type": "execute_result"
    }
   ],
   "source": [
    "df2=pd.DataFrame(dict)\n",
    "df2.head()"
   ]
  },
  {
   "cell_type": "code",
   "execution_count": 54,
   "id": "84d5430f",
   "metadata": {},
   "outputs": [
    {
     "data": {
      "text/plain": [
       "(8671, 4)"
      ]
     },
     "execution_count": 54,
     "metadata": {},
     "output_type": "execute_result"
    }
   ],
   "source": [
    "df2.shape"
   ]
  },
  {
   "cell_type": "code",
   "execution_count": 55,
   "id": "1daee1cd",
   "metadata": {},
   "outputs": [
    {
     "data": {
      "text/html": [
       "<div>\n",
       "<style scoped>\n",
       "    .dataframe tbody tr th:only-of-type {\n",
       "        vertical-align: middle;\n",
       "    }\n",
       "\n",
       "    .dataframe tbody tr th {\n",
       "        vertical-align: top;\n",
       "    }\n",
       "\n",
       "    .dataframe thead th {\n",
       "        text-align: right;\n",
       "    }\n",
       "</style>\n",
       "<table border=\"1\" class=\"dataframe\">\n",
       "  <thead>\n",
       "    <tr style=\"text-align: right;\">\n",
       "      <th></th>\n",
       "      <th>products</th>\n",
       "      <th>describtion</th>\n",
       "      <th>category_id</th>\n",
       "    </tr>\n",
       "  </thead>\n",
       "  <tbody>\n",
       "    <tr>\n",
       "      <th>0</th>\n",
       "      <td>Household</td>\n",
       "      <td>SAF 'UV Textured Modern Art Print Framed' Pain...</td>\n",
       "      <td>0</td>\n",
       "    </tr>\n",
       "    <tr>\n",
       "      <th>1</th>\n",
       "      <td>Household</td>\n",
       "      <td>SAF Flower Print Framed Painting (Synthetic, 1...</td>\n",
       "      <td>0</td>\n",
       "    </tr>\n",
       "    <tr>\n",
       "      <th>2</th>\n",
       "      <td>Household</td>\n",
       "      <td>Incredible Gifts India Wooden Happy Birthday U...</td>\n",
       "      <td>0</td>\n",
       "    </tr>\n",
       "    <tr>\n",
       "      <th>3</th>\n",
       "      <td>Household</td>\n",
       "      <td>Pitaara Box Romantic Venice Canvas Painting 6m...</td>\n",
       "      <td>0</td>\n",
       "    </tr>\n",
       "    <tr>\n",
       "      <th>4</th>\n",
       "      <td>Household</td>\n",
       "      <td>Paper Plane Design Starry Night Vangoh Wall Ar...</td>\n",
       "      <td>0</td>\n",
       "    </tr>\n",
       "    <tr>\n",
       "      <th>...</th>\n",
       "      <td>...</td>\n",
       "      <td>...</td>\n",
       "      <td>...</td>\n",
       "    </tr>\n",
       "    <tr>\n",
       "      <th>50417</th>\n",
       "      <td>Electronics</td>\n",
       "      <td>Nokia Lumia 530 (Dual SIM, Grey) Colour:Grey  ...</td>\n",
       "      <td>3</td>\n",
       "    </tr>\n",
       "    <tr>\n",
       "      <th>50418</th>\n",
       "      <td>Electronics</td>\n",
       "      <td>Strontium MicroSD Class 10 8GB Memory Card (Bl...</td>\n",
       "      <td>3</td>\n",
       "    </tr>\n",
       "    <tr>\n",
       "      <th>50419</th>\n",
       "      <td>Electronics</td>\n",
       "      <td>CrossBeats Wave Waterproof Bluetooth Wireless ...</td>\n",
       "      <td>3</td>\n",
       "    </tr>\n",
       "    <tr>\n",
       "      <th>50420</th>\n",
       "      <td>Electronics</td>\n",
       "      <td>Karbonn Titanium Wind W4 (White) Karbonn Titan...</td>\n",
       "      <td>3</td>\n",
       "    </tr>\n",
       "    <tr>\n",
       "      <th>50421</th>\n",
       "      <td>Electronics</td>\n",
       "      <td>Samsung Guru FM Plus (SM-B110E/D, Black) Colou...</td>\n",
       "      <td>3</td>\n",
       "    </tr>\n",
       "  </tbody>\n",
       "</table>\n",
       "<p>50422 rows × 3 columns</p>\n",
       "</div>"
      ],
      "text/plain": [
       "          products                                        describtion  \\\n",
       "0        Household  SAF 'UV Textured Modern Art Print Framed' Pain...   \n",
       "1        Household  SAF Flower Print Framed Painting (Synthetic, 1...   \n",
       "2        Household  Incredible Gifts India Wooden Happy Birthday U...   \n",
       "3        Household  Pitaara Box Romantic Venice Canvas Painting 6m...   \n",
       "4        Household  Paper Plane Design Starry Night Vangoh Wall Ar...   \n",
       "...            ...                                                ...   \n",
       "50417  Electronics  Nokia Lumia 530 (Dual SIM, Grey) Colour:Grey  ...   \n",
       "50418  Electronics  Strontium MicroSD Class 10 8GB Memory Card (Bl...   \n",
       "50419  Electronics  CrossBeats Wave Waterproof Bluetooth Wireless ...   \n",
       "50420  Electronics  Karbonn Titanium Wind W4 (White) Karbonn Titan...   \n",
       "50421  Electronics  Samsung Guru FM Plus (SM-B110E/D, Black) Colou...   \n",
       "\n",
       "       category_id  \n",
       "0                0  \n",
       "1                0  \n",
       "2                0  \n",
       "3                0  \n",
       "4                0  \n",
       "...            ...  \n",
       "50417            3  \n",
       "50418            3  \n",
       "50419            3  \n",
       "50420            3  \n",
       "50421            3  \n",
       "\n",
       "[50422 rows x 3 columns]"
      ]
     },
     "execution_count": 55,
     "metadata": {},
     "output_type": "execute_result"
    }
   ],
   "source": [
    "df1['category_id'] = df1['products'].factorize()[0]\n",
    "df1.head(-1)"
   ]
  },
  {
   "cell_type": "code",
   "execution_count": 56,
   "id": "bcdfe0c6",
   "metadata": {},
   "outputs": [
    {
     "data": {
      "text/plain": [
       "pandas.core.series.Series"
      ]
     },
     "execution_count": 56,
     "metadata": {},
     "output_type": "execute_result"
    }
   ],
   "source": [
    "type(df1['describtion'])"
   ]
  },
  {
   "cell_type": "code",
   "execution_count": 57,
   "id": "964c0feb",
   "metadata": {},
   "outputs": [],
   "source": [
    "df3=df1.sample(1000,random_state=1).copy()"
   ]
  },
  {
   "cell_type": "code",
   "execution_count": 58,
   "id": "5f083d1f",
   "metadata": {},
   "outputs": [
    {
     "data": {
      "text/html": [
       "<div>\n",
       "<style scoped>\n",
       "    .dataframe tbody tr th:only-of-type {\n",
       "        vertical-align: middle;\n",
       "    }\n",
       "\n",
       "    .dataframe tbody tr th {\n",
       "        vertical-align: top;\n",
       "    }\n",
       "\n",
       "    .dataframe thead th {\n",
       "        text-align: right;\n",
       "    }\n",
       "</style>\n",
       "<table border=\"1\" class=\"dataframe\">\n",
       "  <thead>\n",
       "    <tr style=\"text-align: right;\">\n",
       "      <th></th>\n",
       "      <th>products</th>\n",
       "      <th>describtion</th>\n",
       "      <th>category_id</th>\n",
       "    </tr>\n",
       "  </thead>\n",
       "  <tbody>\n",
       "    <tr>\n",
       "      <th>39252</th>\n",
       "      <td>Clothing &amp; Accessories</td>\n",
       "      <td>Nite Flite Women's Cotton Hot Shorts - Pack of...</td>\n",
       "      <td>2</td>\n",
       "    </tr>\n",
       "    <tr>\n",
       "      <th>22361</th>\n",
       "      <td>Books</td>\n",
       "      <td>SSB Interview: The Complete Guide About the Au...</td>\n",
       "      <td>1</td>\n",
       "    </tr>\n",
       "    <tr>\n",
       "      <th>4910</th>\n",
       "      <td>Household</td>\n",
       "      <td>Hosley® Lavender Fields Highly Fragranced, 2.6...</td>\n",
       "      <td>0</td>\n",
       "    </tr>\n",
       "    <tr>\n",
       "      <th>18636</th>\n",
       "      <td>Household</td>\n",
       "      <td>Bull 3 Socket,1 Switch,3 M Wire Extension Boar...</td>\n",
       "      <td>0</td>\n",
       "    </tr>\n",
       "    <tr>\n",
       "      <th>14722</th>\n",
       "      <td>Household</td>\n",
       "      <td>Bajaj Majesty 1603 TSS 1200-Watt Oven Toaster ...</td>\n",
       "      <td>0</td>\n",
       "    </tr>\n",
       "  </tbody>\n",
       "</table>\n",
       "</div>"
      ],
      "text/plain": [
       "                     products  \\\n",
       "39252  Clothing & Accessories   \n",
       "22361                   Books   \n",
       "4910                Household   \n",
       "18636               Household   \n",
       "14722               Household   \n",
       "\n",
       "                                             describtion  category_id  \n",
       "39252  Nite Flite Women's Cotton Hot Shorts - Pack of...            2  \n",
       "22361  SSB Interview: The Complete Guide About the Au...            1  \n",
       "4910   Hosley® Lavender Fields Highly Fragranced, 2.6...            0  \n",
       "18636  Bull 3 Socket,1 Switch,3 M Wire Extension Boar...            0  \n",
       "14722  Bajaj Majesty 1603 TSS 1200-Watt Oven Toaster ...            0  "
      ]
     },
     "execution_count": 58,
     "metadata": {},
     "output_type": "execute_result"
    }
   ],
   "source": [
    "df3.head()"
   ]
  },
  {
   "cell_type": "code",
   "execution_count": 59,
   "id": "f974f34b",
   "metadata": {},
   "outputs": [
    {
     "data": {
      "text/plain": [
       "(1000, 3)"
      ]
     },
     "execution_count": 59,
     "metadata": {},
     "output_type": "execute_result"
    }
   ],
   "source": [
    "df3.shape"
   ]
  },
  {
   "cell_type": "markdown",
   "id": "9cadac71",
   "metadata": {},
   "source": [
    "# Text Preprocessing"
   ]
  },
  {
   "cell_type": "code",
   "execution_count": 60,
   "id": "23f9868a",
   "metadata": {},
   "outputs": [],
   "source": [
    "import re"
   ]
  },
  {
   "cell_type": "code",
   "execution_count": 61,
   "id": "a4a33b5b",
   "metadata": {},
   "outputs": [],
   "source": [
    "#created a function so that I can pass in either the individual column of products like in df2 Dataframe or an entire column consisting of all products like df3 Dataframe\n",
    "#i.e I can execute the steps even without using the built in function factorize\n",
    "def noise_removal(df,original_name,new_name):\n",
    "       df[new_name]=df[original_name].str.replace(\"\\d+\",\"\")\n",
    "       df[new_name]=df[new_name].str.lower()\n",
    "       return df"
   ]
  },
  {
   "cell_type": "code",
   "execution_count": 62,
   "id": "50fecfd8",
   "metadata": {},
   "outputs": [
    {
     "data": {
      "text/plain": [
       "<pandas.core.strings.accessor.StringMethods at 0x14487e0f0d0>"
      ]
     },
     "execution_count": 62,
     "metadata": {},
     "output_type": "execute_result"
    }
   ],
   "source": [
    "df3['describtion'].str"
   ]
  },
  {
   "cell_type": "code",
   "execution_count": 63,
   "id": "f94d0885",
   "metadata": {},
   "outputs": [
    {
     "name": "stderr",
     "output_type": "stream",
     "text": [
      "C:\\Users\\DELL\\AppData\\Local\\Temp\\ipykernel_14828\\3289737041.py:3: FutureWarning: The default value of regex will change from True to False in a future version.\n",
      "  df[new_name]=df[original_name].str.replace(\"\\d+\",\"\")\n"
     ]
    },
    {
     "data": {
      "text/html": [
       "<div>\n",
       "<style scoped>\n",
       "    .dataframe tbody tr th:only-of-type {\n",
       "        vertical-align: middle;\n",
       "    }\n",
       "\n",
       "    .dataframe tbody tr th {\n",
       "        vertical-align: top;\n",
       "    }\n",
       "\n",
       "    .dataframe thead th {\n",
       "        text-align: right;\n",
       "    }\n",
       "</style>\n",
       "<table border=\"1\" class=\"dataframe\">\n",
       "  <thead>\n",
       "    <tr style=\"text-align: right;\">\n",
       "      <th></th>\n",
       "      <th>products</th>\n",
       "      <th>describtion</th>\n",
       "      <th>category_id</th>\n",
       "      <th>new_describ</th>\n",
       "    </tr>\n",
       "  </thead>\n",
       "  <tbody>\n",
       "    <tr>\n",
       "      <th>39252</th>\n",
       "      <td>Clothing &amp; Accessories</td>\n",
       "      <td>Nite Flite Women's Cotton Hot Shorts - Pack of...</td>\n",
       "      <td>2</td>\n",
       "      <td>nite flite women's cotton hot shorts - pack of...</td>\n",
       "    </tr>\n",
       "    <tr>\n",
       "      <th>22361</th>\n",
       "      <td>Books</td>\n",
       "      <td>SSB Interview: The Complete Guide About the Au...</td>\n",
       "      <td>1</td>\n",
       "      <td>ssb interview: the complete guide about the au...</td>\n",
       "    </tr>\n",
       "    <tr>\n",
       "      <th>4910</th>\n",
       "      <td>Household</td>\n",
       "      <td>Hosley® Lavender Fields Highly Fragranced, 2.6...</td>\n",
       "      <td>0</td>\n",
       "      <td>hosley® lavender fields highly fragranced, . o...</td>\n",
       "    </tr>\n",
       "    <tr>\n",
       "      <th>18636</th>\n",
       "      <td>Household</td>\n",
       "      <td>Bull 3 Socket,1 Switch,3 M Wire Extension Boar...</td>\n",
       "      <td>0</td>\n",
       "      <td>bull  socket, switch, m wire extension board,w...</td>\n",
       "    </tr>\n",
       "    <tr>\n",
       "      <th>14722</th>\n",
       "      <td>Household</td>\n",
       "      <td>Bajaj Majesty 1603 TSS 1200-Watt Oven Toaster ...</td>\n",
       "      <td>0</td>\n",
       "      <td>bajaj majesty  tss -watt oven toaster grill mu...</td>\n",
       "    </tr>\n",
       "    <tr>\n",
       "      <th>...</th>\n",
       "      <td>...</td>\n",
       "      <td>...</td>\n",
       "      <td>...</td>\n",
       "      <td>...</td>\n",
       "    </tr>\n",
       "    <tr>\n",
       "      <th>14837</th>\n",
       "      <td>Household</td>\n",
       "      <td>V-Guard VGD 20 Voltage Stabilizer for Televisi...</td>\n",
       "      <td>0</td>\n",
       "      <td>v-guard vgd  voltage stabilizer for television...</td>\n",
       "    </tr>\n",
       "    <tr>\n",
       "      <th>2224</th>\n",
       "      <td>Household</td>\n",
       "      <td>HM Service Cane Sofa Set with Table,3+1+1 (Bro...</td>\n",
       "      <td>0</td>\n",
       "      <td>hm service cane sofa set with table,++ (brown)...</td>\n",
       "    </tr>\n",
       "    <tr>\n",
       "      <th>33222</th>\n",
       "      <td>Clothing &amp; Accessories</td>\n",
       "      <td>US Polo Association Men's Skinny Fit Jeans U.S...</td>\n",
       "      <td>2</td>\n",
       "      <td>us polo association men's skinny fit jeans u.s...</td>\n",
       "    </tr>\n",
       "    <tr>\n",
       "      <th>10801</th>\n",
       "      <td>Household</td>\n",
       "      <td>Flair Bread Knife 12\" Wide Teeth Wooden Handle...</td>\n",
       "      <td>0</td>\n",
       "      <td>flair bread knife \" wide teeth wooden handle p...</td>\n",
       "    </tr>\n",
       "    <tr>\n",
       "      <th>46257</th>\n",
       "      <td>Electronics</td>\n",
       "      <td>Shopee Lens Hood For Nikon Af-P Dx Nikon 70-30...</td>\n",
       "      <td>3</td>\n",
       "      <td>shopee lens hood for nikon af-p dx nikon -mm f...</td>\n",
       "    </tr>\n",
       "  </tbody>\n",
       "</table>\n",
       "<p>1000 rows × 4 columns</p>\n",
       "</div>"
      ],
      "text/plain": [
       "                     products  \\\n",
       "39252  Clothing & Accessories   \n",
       "22361                   Books   \n",
       "4910                Household   \n",
       "18636               Household   \n",
       "14722               Household   \n",
       "...                       ...   \n",
       "14837               Household   \n",
       "2224                Household   \n",
       "33222  Clothing & Accessories   \n",
       "10801               Household   \n",
       "46257             Electronics   \n",
       "\n",
       "                                             describtion  category_id  \\\n",
       "39252  Nite Flite Women's Cotton Hot Shorts - Pack of...            2   \n",
       "22361  SSB Interview: The Complete Guide About the Au...            1   \n",
       "4910   Hosley® Lavender Fields Highly Fragranced, 2.6...            0   \n",
       "18636  Bull 3 Socket,1 Switch,3 M Wire Extension Boar...            0   \n",
       "14722  Bajaj Majesty 1603 TSS 1200-Watt Oven Toaster ...            0   \n",
       "...                                                  ...          ...   \n",
       "14837  V-Guard VGD 20 Voltage Stabilizer for Televisi...            0   \n",
       "2224   HM Service Cane Sofa Set with Table,3+1+1 (Bro...            0   \n",
       "33222  US Polo Association Men's Skinny Fit Jeans U.S...            2   \n",
       "10801  Flair Bread Knife 12\" Wide Teeth Wooden Handle...            0   \n",
       "46257  Shopee Lens Hood For Nikon Af-P Dx Nikon 70-30...            3   \n",
       "\n",
       "                                             new_describ  \n",
       "39252  nite flite women's cotton hot shorts - pack of...  \n",
       "22361  ssb interview: the complete guide about the au...  \n",
       "4910   hosley® lavender fields highly fragranced, . o...  \n",
       "18636  bull  socket, switch, m wire extension board,w...  \n",
       "14722  bajaj majesty  tss -watt oven toaster grill mu...  \n",
       "...                                                  ...  \n",
       "14837  v-guard vgd  voltage stabilizer for television...  \n",
       "2224   hm service cane sofa set with table,++ (brown)...  \n",
       "33222  us polo association men's skinny fit jeans u.s...  \n",
       "10801  flair bread knife \" wide teeth wooden handle p...  \n",
       "46257  shopee lens hood for nikon af-p dx nikon -mm f...  \n",
       "\n",
       "[1000 rows x 4 columns]"
      ]
     },
     "execution_count": 63,
     "metadata": {},
     "output_type": "execute_result"
    }
   ],
   "source": [
    "noise_removal(df3,'describtion','new_describ')"
   ]
  },
  {
   "cell_type": "code",
   "execution_count": 64,
   "id": "1cbbb9c1",
   "metadata": {},
   "outputs": [
    {
     "data": {
      "text/plain": [
       "(1000, 4)"
      ]
     },
     "execution_count": 64,
     "metadata": {},
     "output_type": "execute_result"
    }
   ],
   "source": [
    "df3.shape"
   ]
  },
  {
   "cell_type": "markdown",
   "id": "d5d48bbf",
   "metadata": {},
   "source": [
    "# TF-IDF in text summarization"
   ]
  },
  {
   "cell_type": "code",
   "execution_count": 65,
   "id": "af6882d9",
   "metadata": {},
   "outputs": [],
   "source": [
    "from sklearn.feature_extraction.text import TfidfVectorizer"
   ]
  },
  {
   "cell_type": "code",
   "execution_count": 66,
   "id": "8d49a7e8",
   "metadata": {},
   "outputs": [],
   "source": [
    "tfidf = TfidfVectorizer(sublinear_tf=True, min_df=5,\n",
    "                        ngram_range=(1, 2), \n",
    "                        stop_words='english')\n",
    "features = tfidf.fit_transform(df3['new_describ'].astype('U').values)\n",
    "labels = df3.category_id\n"
   ]
  },
  {
   "cell_type": "code",
   "execution_count": 67,
   "id": "b909ffbd",
   "metadata": {},
   "outputs": [
    {
     "data": {
      "text/plain": [
       "matrix([[0., 0., 0., ..., 0., 0., 0.],\n",
       "        [0., 0., 0., ..., 0., 0., 0.],\n",
       "        [0., 0., 0., ..., 0., 0., 0.],\n",
       "        ...,\n",
       "        [0., 0., 0., ..., 0., 0., 0.],\n",
       "        [0., 0., 0., ..., 0., 0., 0.],\n",
       "        [0., 0., 0., ..., 0., 0., 0.]])"
      ]
     },
     "execution_count": 67,
     "metadata": {},
     "output_type": "execute_result"
    }
   ],
   "source": [
    "features.todense()"
   ]
  },
  {
   "cell_type": "code",
   "execution_count": 68,
   "id": "dfa69380",
   "metadata": {},
   "outputs": [
    {
     "data": {
      "text/plain": [
       "<bound method NDFrame.to_xarray of 39252    2\n",
       "22361    1\n",
       "4910     0\n",
       "18636    0\n",
       "14722    0\n",
       "        ..\n",
       "14837    0\n",
       "2224     0\n",
       "33222    2\n",
       "10801    0\n",
       "46257    3\n",
       "Name: category_id, Length: 1000, dtype: int64>"
      ]
     },
     "execution_count": 68,
     "metadata": {},
     "output_type": "execute_result"
    }
   ],
   "source": [
    "labels.to_xarray"
   ]
  },
  {
   "cell_type": "markdown",
   "id": "0749e29f",
   "metadata": {},
   "source": [
    "# Splitting the dataset into training and test data"
   ]
  },
  {
   "cell_type": "code",
   "execution_count": 69,
   "id": "b17d47f7",
   "metadata": {},
   "outputs": [],
   "source": [
    "from sklearn.model_selection import train_test_split"
   ]
  },
  {
   "cell_type": "code",
   "execution_count": 70,
   "id": "fbbac1e2",
   "metadata": {},
   "outputs": [],
   "source": [
    "X=features\n",
    "y=labels\n",
    "X_train, X_test, y_train, y_test = train_test_split(X, y, \n",
    "                                                    test_size=0.25,\n",
    "                                                    random_state = 0)"
   ]
  },
  {
   "cell_type": "markdown",
   "id": "ce0c00f6",
   "metadata": {},
   "source": [
    "# Training all the models on Training Dataset"
   ]
  },
  {
   "cell_type": "code",
   "execution_count": 71,
   "id": "eda778c7",
   "metadata": {},
   "outputs": [],
   "source": [
    "from sklearn.feature_extraction.text import TfidfTransformer\n",
    "from sklearn.naive_bayes import MultinomialNB\n",
    "from sklearn.linear_model import LogisticRegression\n",
    "from sklearn.ensemble import RandomForestClassifier\n",
    "from sklearn.svm import LinearSVC"
   ]
  },
  {
   "cell_type": "code",
   "execution_count": 72,
   "id": "437255b9",
   "metadata": {},
   "outputs": [],
   "source": [
    "models = [\n",
    "    RandomForestClassifier(n_estimators=100, max_depth=5, random_state=0),\n",
    "    LinearSVC(),\n",
    "    MultinomialNB(),\n",
    "    LogisticRegression(random_state=0),\n",
    "]"
   ]
  },
  {
   "cell_type": "markdown",
   "id": "b5278711",
   "metadata": {},
   "source": [
    "# Calculating and Comparing the mean accuracy and standard deviation of all the models"
   ]
  },
  {
   "cell_type": "code",
   "execution_count": 73,
   "id": "9cbc6bec",
   "metadata": {},
   "outputs": [],
   "source": [
    "from sklearn.model_selection import cross_val_score"
   ]
  },
  {
   "cell_type": "code",
   "execution_count": 74,
   "id": "5b4dc618",
   "metadata": {},
   "outputs": [],
   "source": [
    "CV = 5\n",
    "cv_df = pd.DataFrame(index=range(CV * len(models)))\n",
    "\n",
    "entries = []\n",
    "for model in models:\n",
    "  model_name = model.__class__.__name__\n",
    "  accuracies = cross_val_score(model, features, labels, scoring='accuracy', cv=CV)\n",
    "  for fold_idx, accuracy in enumerate(accuracies):\n",
    "    entries.append((model_name, fold_idx, accuracy))\n",
    "    \n",
    "cv_df = pd.DataFrame(entries, columns=['model_name', 'fold_idx', 'accuracy'])"
   ]
  },
  {
   "cell_type": "code",
   "execution_count": 75,
   "id": "3752209d",
   "metadata": {},
   "outputs": [
    {
     "data": {
      "text/html": [
       "<div>\n",
       "<style scoped>\n",
       "    .dataframe tbody tr th:only-of-type {\n",
       "        vertical-align: middle;\n",
       "    }\n",
       "\n",
       "    .dataframe tbody tr th {\n",
       "        vertical-align: top;\n",
       "    }\n",
       "\n",
       "    .dataframe thead th {\n",
       "        text-align: right;\n",
       "    }\n",
       "</style>\n",
       "<table border=\"1\" class=\"dataframe\">\n",
       "  <thead>\n",
       "    <tr style=\"text-align: right;\">\n",
       "      <th></th>\n",
       "      <th>Mean Accuracy</th>\n",
       "      <th>Standard deviation</th>\n",
       "    </tr>\n",
       "    <tr>\n",
       "      <th>model_name</th>\n",
       "      <th></th>\n",
       "      <th></th>\n",
       "    </tr>\n",
       "  </thead>\n",
       "  <tbody>\n",
       "    <tr>\n",
       "      <th>LinearSVC</th>\n",
       "      <td>0.932</td>\n",
       "      <td>0.026125</td>\n",
       "    </tr>\n",
       "    <tr>\n",
       "      <th>LogisticRegression</th>\n",
       "      <td>0.911</td>\n",
       "      <td>0.024597</td>\n",
       "    </tr>\n",
       "    <tr>\n",
       "      <th>MultinomialNB</th>\n",
       "      <td>0.907</td>\n",
       "      <td>0.025642</td>\n",
       "    </tr>\n",
       "    <tr>\n",
       "      <th>RandomForestClassifier</th>\n",
       "      <td>0.646</td>\n",
       "      <td>0.040528</td>\n",
       "    </tr>\n",
       "  </tbody>\n",
       "</table>\n",
       "</div>"
      ],
      "text/plain": [
       "                        Mean Accuracy  Standard deviation\n",
       "model_name                                               \n",
       "LinearSVC                       0.932            0.026125\n",
       "LogisticRegression              0.911            0.024597\n",
       "MultinomialNB                   0.907            0.025642\n",
       "RandomForestClassifier          0.646            0.040528"
      ]
     },
     "execution_count": 75,
     "metadata": {},
     "output_type": "execute_result"
    }
   ],
   "source": [
    "mean_accuracy = cv_df.groupby('model_name').accuracy.mean()\n",
    "std_accuracy = cv_df.groupby('model_name').accuracy.std()\n",
    "\n",
    "acc = pd.concat([mean_accuracy, std_accuracy], axis= 1, \n",
    "          ignore_index=True)\n",
    "acc.columns = ['Mean Accuracy', 'Standard deviation']\n",
    "acc"
   ]
  },
  {
   "cell_type": "markdown",
   "id": "2631f60e",
   "metadata": {},
   "source": [
    "# Training it on Linear Support Vector Classifier model as it gave the highest accuracy"
   ]
  },
  {
   "cell_type": "code",
   "execution_count": 76,
   "id": "810cbf74",
   "metadata": {},
   "outputs": [
    {
     "data": {
      "text/plain": [
       "LinearSVC()"
      ]
     },
     "execution_count": 76,
     "metadata": {},
     "output_type": "execute_result"
    }
   ],
   "source": [
    "classifier=LinearSVC()\n",
    "classifier.fit(X_train, y_train)"
   ]
  },
  {
   "cell_type": "markdown",
   "id": "b5247788",
   "metadata": {},
   "source": [
    "# Predicting the Test Set results"
   ]
  },
  {
   "cell_type": "code",
   "execution_count": 77,
   "id": "755b1c52",
   "metadata": {},
   "outputs": [],
   "source": [
    "y_pred = classifier.predict(X_test)"
   ]
  },
  {
   "cell_type": "markdown",
   "id": "53b7d302",
   "metadata": {},
   "source": [
    "# Making the Confusion matrix"
   ]
  },
  {
   "cell_type": "code",
   "execution_count": 78,
   "id": "09ed51a5",
   "metadata": {},
   "outputs": [
    {
     "name": "stdout",
     "output_type": "stream",
     "text": [
      "[[85  2  3  2]\n",
      " [ 4 53  0  0]\n",
      " [ 0  1 39  0]\n",
      " [ 3  0  0 58]]\n"
     ]
    },
    {
     "data": {
      "text/plain": [
       "0.94"
      ]
     },
     "execution_count": 78,
     "metadata": {},
     "output_type": "execute_result"
    }
   ],
   "source": [
    "from sklearn.metrics import confusion_matrix, accuracy_score\n",
    "cm = confusion_matrix(y_test, y_pred)\n",
    "print(cm)\n",
    "accuracy_score(y_test, y_pred)"
   ]
  },
  {
   "cell_type": "code",
   "execution_count": null,
   "id": "d7332ff7",
   "metadata": {},
   "outputs": [],
   "source": []
  },
  {
   "cell_type": "code",
   "execution_count": null,
   "id": "eb401c7d",
   "metadata": {},
   "outputs": [],
   "source": []
  },
  {
   "cell_type": "code",
   "execution_count": null,
   "id": "b79de83b",
   "metadata": {},
   "outputs": [],
   "source": []
  },
  {
   "cell_type": "code",
   "execution_count": null,
   "id": "84270ff6",
   "metadata": {},
   "outputs": [],
   "source": []
  },
  {
   "cell_type": "code",
   "execution_count": null,
   "id": "238209e0",
   "metadata": {},
   "outputs": [],
   "source": []
  },
  {
   "cell_type": "code",
   "execution_count": null,
   "id": "8ad8d45b",
   "metadata": {},
   "outputs": [],
   "source": []
  },
  {
   "cell_type": "code",
   "execution_count": null,
   "id": "ed051749",
   "metadata": {},
   "outputs": [],
   "source": []
  },
  {
   "cell_type": "code",
   "execution_count": null,
   "id": "db665db0",
   "metadata": {},
   "outputs": [],
   "source": []
  }
 ],
 "metadata": {
  "kernelspec": {
   "display_name": "Python 3 (ipykernel)",
   "language": "python",
   "name": "python3"
  },
  "language_info": {
   "codemirror_mode": {
    "name": "ipython",
    "version": 3
   },
   "file_extension": ".py",
   "mimetype": "text/x-python",
   "name": "python",
   "nbconvert_exporter": "python",
   "pygments_lexer": "ipython3",
   "version": "3.9.12"
  }
 },
 "nbformat": 4,
 "nbformat_minor": 5
}
